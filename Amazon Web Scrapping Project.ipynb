{
 "cells": [
  {
   "cell_type": "code",
   "execution_count": 2,
   "metadata": {},
   "outputs": [],
   "source": [
    "# import libraries \n",
    "\n",
    "from bs4 import BeautifulSoup\n",
    "import requests\n",
    "import smtplib\n",
    "import time\n",
    "import datetime\n",
    "\n"
   ]
  },
  {
   "cell_type": "code",
   "execution_count": 23,
   "metadata": {},
   "outputs": [
    {
     "name": "stdout",
     "output_type": "stream",
     "text": [
      "\n",
      "                   DUDEME Eat Sleep Code Repeat | Geek Half Sleeve T Shirt for Men | Round Neck Cotton T Shirt | Programmer T Shirt | Developer T Shirt | Coding T Shirt for Coders\n",
      "                  \n",
      "\n",
      "                    11 ratings\n",
      "                   \n"
     ]
    }
   ],
   "source": [
    "##Connecting to website and pulling the data.\n",
    "\n",
    "URL = 'https://www.amazon.in/DUDEME-Repeat-Sleeve-Programmer-Developer/dp/B08RWH2CQ5/ref=sr_1_8?crid=2JGY7W70Y4O8V&keywords=coding+tshirt&qid=1655297751&sprefix=coding+tsh%2Caps%2C554&sr=8-8'\n",
    "\n",
    "headers ={\"User-Agent\": \"Mozilla/5.0 (Windows NT 10.0; Win64; x64) AppleWebKit/537.36 (KHTML, like Gecko) Chrome/102.0.0.0 Safari/537.36\",\"Accept-Encoding\":\"gzip, deflate\", \"Accept\":\"text/html,application/xhtml+xml,application/xml;q=0.9,*/*;q=0.8\", \"DNT\":\"1\",\"Connection\":\"close\", \"Upgrade-Insecure-Requests\":\"1\"}\n",
    "\n",
    "page = requests.get(URL, headers=headers)\n",
    "\n",
    "soup = BeautifulSoup(page.content, \"html.parser\")\n",
    "\n",
    "soup1 = BeautifulSoup(soup.prettify(), \"html.parser\")\n",
    "\n",
    "title = soup1.find(id='productTitle').get_text()\n",
    "\n",
    "ratings = soup1.find(id='acrCustomerReviewText').get_text()\n",
    "\n",
    "print(title)\n",
    "print(ratings)\n"
   ]
  },
  {
   "cell_type": "code",
   "execution_count": 24,
   "metadata": {},
   "outputs": [
    {
     "name": "stdout",
     "output_type": "stream",
     "text": [
      "DUDEME Eat Sleep Code Repeat | Geek Half Sleeve T Shirt for Men | Round Neck Cotton T Shirt | Programmer T Shirt | Developer T Shirt | Coding T Shirt for Coders\n",
      "11 ratings\n"
     ]
    }
   ],
   "source": [
    "# Cleaning up the data a little bit\n",
    "\n",
    "title=title.strip()\n",
    "ratings=ratings.strip()\n",
    "\n",
    "print(title)\n",
    "print(ratings)"
   ]
  },
  {
   "cell_type": "code",
   "execution_count": 26,
   "metadata": {},
   "outputs": [
    {
     "name": "stdout",
     "output_type": "stream",
     "text": [
      "2022-06-16\n"
     ]
    }
   ],
   "source": [
    "# Creating a Timestamp for our output to track when data was collected.\n",
    "\n",
    "import datetime\n",
    "\n",
    "today = datetime.date.today()\n",
    "\n",
    "print(today)"
   ]
  },
  {
   "cell_type": "code",
   "execution_count": 28,
   "metadata": {},
   "outputs": [],
   "source": [
    "# Create CSV and write headers and data into the file\n",
    "\n",
    "import csv\n",
    "\n",
    "header = ['Title', 'Ratings', 'Date']\n",
    "data = [title, ratings, today]\n",
    "\n",
    "with open('WebScrappingDataset.csv', 'w', newline='', encoding='UTF8') as f:\n",
    "    writer = csv.writer(f)\n",
    "    writer.writerow(header)\n",
    "    writer.writerow(data)\n"
   ]
  },
  {
   "cell_type": "code",
   "execution_count": 33,
   "metadata": {},
   "outputs": [
    {
     "name": "stdout",
     "output_type": "stream",
     "text": [
      "                                               Title     Ratings        Date\n",
      "0  DUDEME Eat Sleep Code Repeat | Geek Half Sleev...  11 ratings  2022-06-16\n",
      "1  DUDEME Eat Sleep Code Repeat | Geek Half Sleev...  11 ratings  2022-06-16\n"
     ]
    }
   ],
   "source": [
    "import pandas as pd\n",
    "\n",
    "df = pd.read_csv(r'C:\\Users\\Siddharth\\WebScrappingDataset.csv')\n",
    "print(df)"
   ]
  },
  {
   "cell_type": "code",
   "execution_count": 32,
   "metadata": {},
   "outputs": [],
   "source": [
    "#Now we are appending data to the csv.\n",
    "\n",
    "with open('WebScrappingDataset.csv', 'a+', newline='', encoding='UTF8') as f:\n",
    "    writer = csv.writer(f)\n",
    "    writer.writerow(data)"
   ]
  },
  {
   "cell_type": "code",
   "execution_count": 34,
   "metadata": {},
   "outputs": [],
   "source": [
    "#Combine all of the above code into one function for automation.\n",
    "\n",
    "def update_data():\n",
    "    URL = 'https://www.amazon.in/DUDEME-Repeat-Sleeve-Programmer-Developer/dp/B08RWH2CQ5/ref=sr_1_8?crid=2JGY7W70Y4O8V&keywords=coding+tshirt&qid=1655297751&sprefix=coding+tsh%2Caps%2C554&sr=8-8'\n",
    "\n",
    "    headers ={\"User-Agent\": \"Mozilla/5.0 (Windows NT 10.0; Win64; x64) AppleWebKit/537.36 (KHTML, like Gecko) Chrome/102.0.0.0 Safari/537.36\",\"Accept-Encoding\":\"gzip, deflate\", \"Accept\":\"text/html,application/xhtml+xml,application/xml;q=0.9,*/*;q=0.8\", \"DNT\":\"1\",\"Connection\":\"close\", \"Upgrade-Insecure-Requests\":\"1\"}\n",
    "\n",
    "    page = requests.get(URL, headers=headers)\n",
    "\n",
    "    soup = BeautifulSoup(page.content, \"html.parser\")\n",
    "\n",
    "    soup1 = BeautifulSoup(soup.prettify(), \"html.parser\")\n",
    "\n",
    "    title = soup1.find(id='productTitle').get_text()\n",
    "\n",
    "    ratings = soup1.find(id='acrCustomerReviewText').get_text()\n",
    "    \n",
    "    title=title.strip()\n",
    "    \n",
    "    ratings=ratings.strip()\n",
    "    \n",
    "    import datetime\n",
    "\n",
    "    today = datetime.date.today()\n",
    "\n",
    "    print(today)\n",
    "    \n",
    "    import csv\n",
    "\n",
    "    header = ['Title', 'Ratings', 'Date']\n",
    "    data = [title, ratings, today]\n",
    "    \n",
    "    with open('WebScrappingDataset.csv', 'a+', newline='', encoding='UTF8') as f:\n",
    "        writer = csv.writer(f)\n",
    "        writer.writerow(data)\n",
    "    \n"
   ]
  },
  {
   "cell_type": "code",
   "execution_count": null,
   "metadata": {},
   "outputs": [],
   "source": [
    "# Runs check_price after a set time and inputs data into your CSV.\n",
    "\n",
    "while(True) :\n",
    "    update_data\n",
    "    time.sleep(86400)"
   ]
  },
  {
   "cell_type": "code",
   "execution_count": null,
   "metadata": {},
   "outputs": [],
   "source": [
    "import pandas as pd\n",
    "\n",
    "df = pd.read_csv(r'C:\\Users\\alexf\\AmazonWebScraperDataset.csv')\n",
    "\n",
    "print(df)"
   ]
  }
 ],
 "metadata": {
  "kernelspec": {
   "display_name": "Python 3",
   "language": "python",
   "name": "python3"
  },
  "language_info": {
   "codemirror_mode": {
    "name": "ipython",
    "version": 3
   },
   "file_extension": ".py",
   "mimetype": "text/x-python",
   "name": "python",
   "nbconvert_exporter": "python",
   "pygments_lexer": "ipython3",
   "version": "3.8.5"
  }
 },
 "nbformat": 4,
 "nbformat_minor": 4
}
